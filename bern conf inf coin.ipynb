{
 "cells": [
  {
   "cell_type": "markdown",
   "metadata": {},
   "source": [
    "## Доверительные интервалы. Распределение Бернулли с неизвестной вероятностью успеха"
   ]
  },
  {
   "cell_type": "markdown",
   "metadata": {},
   "source": [
    "**Задача.** Пусть дана выборка из распределения Бернулли (можно считать, например, это это клики по рекламному баннеру в Интернете) длины $n=290$ и вероятностью успеха, равномерно распределенной на $[0.01,0.05]$. Оценить параметр успеха. Построить для него доверительные интервалы: (1) асимптотический, основанный на центральной предельной теореме, (2) доверительный интервал Уилсона. "
   ]
  },
  {
   "cell_type": "code",
   "execution_count": 1,
   "metadata": {},
   "outputs": [],
   "source": [
    "%matplotlib inline\r\n",
    "\r\n",
    "import matplotlib.pyplot as plt\r\n",
    "import numpy as np # для генерации случайных величин и работы с массивами\r\n",
    "import statsmodels.stats.proportion # для построения доверительных интервалов в модели Бернулли \r\n",
    "import datetime\r\n",
    "import os\r\n",
    "import sqlite3\r\n",
    "from scipy import stats\r\n",
    "import pandas as pd\r\n",
    "import sqlite3\r\n",
    "from scipy.stats import chisquare, randint\r\n",
    "\r\n"
   ]
  },
  {
   "cell_type": "code",
   "execution_count": 2,
   "metadata": {},
   "outputs": [],
   "source": [
    "np.random.seed(123) # фиксируем seed"
   ]
  },
  {
   "cell_type": "code",
   "execution_count": 3,
   "metadata": {},
   "outputs": [],
   "source": [
    "# Фиксируем параметры задачи\n",
    "\n",
    "n = 290 # размер выборки \n",
    "alpha = 0.05 # параметр ошибки\n",
    "\n",
    "p = np.random.uniform(0.01,0.05) # неизвестный параметр успеха\n",
    "p = 1/3"
   ]
  },
  {
   "cell_type": "code",
   "execution_count": 4,
   "metadata": {},
   "outputs": [],
   "source": [
    "if not os.path.exists('tosses.db'):\r\n",
    "    conn = sqlite3.connect('tosses.db')\r\n",
    "    cur = conn.cursor()\r\n",
    "    # Make some fresh tables using executescript()\r\n",
    "    cur.executescript('''CREATE TABLE \"timelog\" (\r\n",
    "    \"stamp\" TEXT,\r\n",
    "    \"roll\"    INTEGER,\r\n",
    "    PRIMARY KEY(\"stamp\")\r\n",
    "    );''')\r\n",
    "    conn.commit()\r\n",
    "    cur.close()\r\n",
    "\r\n",
    "\r\n",
    "def add_roll(result, cur_time):\r\n",
    "    try:\r\n",
    "        sqlite_con = sqlite3.connect('tosses.db')\r\n",
    "        cursor = sqlite_con.cursor()\r\n",
    "        sqlite_insert = \"\"\"INSERT INTO 'timelog'\r\n",
    "                ('stamp', 'roll')\r\n",
    "                VALUES (?, ?);\"\"\"\r\n",
    "        data_tuple = (cur_time, result)\r\n",
    "        cursor.execute(sqlite_insert, data_tuple)\r\n",
    "        sqlite_con.commit()\r\n",
    "        sqlite_con.close()\r\n",
    "    except sqlite3.Error as error:\r\n",
    "        print(\"Error while working with sqlite\", error)\r\n",
    "\r\n",
    "\r\n",
    "def pvalue_binom(data):\r\n",
    "    res = []\r\n",
    "    n = len(np.unique(data))\r\n",
    "    for i in np.unique(data):\r\n",
    "        res.append(stats.binom_test(len(data[data==i]), len(data), 1/n, alternative = 'two-sided'))\r\n",
    "    return(res)\r\n",
    "\r\n",
    "def ci_wilson_print(data, alpha=0.05):\r\n",
    "    n = len(np.unique(data))\r\n",
    "    data_size = len(data)\r\n",
    "    for i in np.unique(data):\r\n",
    "        CI_Wilsoni = statsmodels.stats.proportion.proportion_confint(len(data[data==i]), data_size, alpha, method = 'wilson')\r\n",
    "        print(f'Доверительный интервал {i} Уилсона равен {CI_Wilsoni}')\r\n",
    "        \r\n",
    "    \r\n"
   ]
  },
  {
   "cell_type": "code",
   "execution_count": null,
   "metadata": {},
   "outputs": [],
   "source": []
  },
  {
   "cell_type": "code",
   "execution_count": 6,
   "metadata": {},
   "outputs": [
    {
     "name": "stdout",
     "output_type": "stream",
     "text": [
      "Доверительный интервал 1 Уилсона равен (0.1370170590639374, 0.432461358094338)\n",
      "Доверительный интервал 2 Уилсона равен (0.2916173598052002, 0.622278323626455)\n",
      "Доверительный интервал 3 Уилсона равен (0.16095800156300613, 0.4659232933074994)\n",
      "PV Хиквадрат теста 0.3678794411714425\n",
      "PV p каждое значение равно 1/n :[0.44899056365532375, 0.18289463579178455, 0.705671978101602]\n",
      "Доверительный интервал 2 Уилсона равен  (0.2916173598052002, 0.622278323626455)\n"
     ]
    },
    {
     "data": {
      "image/png": "[encoded data removed]",
      "text/plain": [
       "<Figure size 432x288 with 1 Axes>"
      ]
     },
     "metadata": {
      "needs_background": "light"
     },
     "output_type": "display_data"
    }
   ],
   "source": [
    "new_roll = ''\r\n",
    "con = sqlite3.connect(\"tosses.db\")\r\n",
    "\r\n",
    "\r\n",
    "# Start a loop that will run until the user enters 'quit'.\r\n",
    "while new_roll != 'quit':\r\n",
    "    # Ask the user for a name.\r\n",
    "    new_roll = input('what did it roll? (type quit to exit)')\r\n",
    "\r\n",
    "    # Add the new roll \r\n",
    "    if new_roll != 'quit':\r\n",
    "        try:\r\n",
    "            roll_value = int(new_roll)\r\n",
    "            print(f'заношу {roll_value}')\r\n",
    "            add_roll(roll_value, datetime.datetime.now())\r\n",
    "\r\n",
    "        except ValueError:\r\n",
    "            print(f'введено \"{new_roll}\", нужно вводить целове число')\r\n",
    "    \r\n",
    "    df = pd.read_sql_query(\"SELECT * from timelog\", con)\r\n",
    "    sample = df.roll.values\r\n",
    "    ci_wilson_print(sample, alpha=alpha)\r\n",
    "    print(\"PV Хиквадрат теста\", chisquare(np.unique(sample, return_counts=True)[1])[1])\r\n",
    "    print(f'PV p каждое значение равно 1/n :{pvalue_binom(sample)}')\r\n",
    "\r\n",
    "    \r\n",
    "\r\n",
    "\r\n",
    "con.close()\r\n",
    "\r\n",
    "CI_Wilson2 = statsmodels.stats.proportion.proportion_confint(len(sample[sample==2]), len(sample), alpha, method = 'wilson')\r\n",
    "print(\"Доверительный интервал 2 Уилсона равен \", CI_Wilson2)\r\n",
    "n = len(sample)\r\n",
    "F_H0 = stats.binom(n, 1/len(np.unique(sample)))\r\n",
    "\r\n",
    "x = [int(i) for i in np.linspace(0,n-1,1000)]\r\n",
    "\r\n",
    "plt.plot(x, F_H0.pmf(x))\r\n",
    "plt.xlim(-0.5, n) \r\n",
    "plt.axvline(x=n/len(np.unique(sample)), c='red')\r\n",
    "plt.axvline(x=CI_Wilson2[0]*n, c='black')\r\n",
    "plt.axvline(x=CI_Wilson2[1]*n, c='black')\r\n",
    "plt.show()\r\n",
    "\r\n"
   ]
  },
  {
   "cell_type": "code",
   "execution_count": null,
   "metadata": {},
   "outputs": [],
   "source": [
    "\r\n"
   ]
  },
  {
   "cell_type": "code",
   "execution_count": 7,
   "metadata": {},
   "outputs": [
    {
     "name": "stdout",
     "output_type": "stream",
     "text": [
      "                        stamp  roll\n",
      "0  2021-06-30 16:42:09.469770     1\n",
      "1  2021-06-30 16:42:13.720220     2\n",
      "2  2021-06-30 16:42:20.903245     3\n",
      "3  2021-06-30 16:42:24.637841     3\n",
      "4  2021-06-30 16:42:26.211745     3\n"
     ]
    }
   ],
   "source": [
    "# Сгенерируем выборку из нужного распределения\r\n",
    "sample = np.random.binomial(1,p, size=n)\r\n",
    "sample = np.array([1,2,3,3,3,2,2,2,2,2,1,3,1,1,3,3,1,2])\r\n",
    "\r\n",
    "\r\n",
    "\r\n",
    "# Read sqlite query results into a pandas DataFrame\r\n",
    "con = sqlite3.connect(\"tosses.db\")\r\n",
    "df = pd.read_sql_query(\"SELECT * from timelog\", con)\r\n",
    "\r\n",
    "# Verify that result of SQL query is stored in the dataframe\r\n",
    "print(df.head())\r\n",
    "\r\n",
    "con.close()"
   ]
  },
  {
   "cell_type": "code",
   "execution_count": 8,
   "metadata": {},
   "outputs": [
    {
     "data": {
      "text/plain": [
       "array([1, 2, 3, 3, 3, 2, 2, 2, 2, 2, 1, 3, 1, 1, 3, 3, 1, 2, 1, 3, 3, 2,\n",
       "       1, 2, 2, 2, 2, 2, 1, 3, 2], dtype=int64)"
      ]
     },
     "execution_count": 8,
     "metadata": {},
     "output_type": "execute_result"
    }
   ],
   "source": [
    "df.roll.values"
   ]
  },
  {
   "cell_type": "code",
   "execution_count": 9,
   "metadata": {},
   "outputs": [
    {
     "data": {
      "text/plain": [
       "array([1, 2, 3, 3, 3, 2, 2, 2, 2, 2, 1, 3, 1, 1, 3, 3, 1, 2])"
      ]
     },
     "execution_count": 9,
     "metadata": {},
     "output_type": "execute_result"
    }
   ],
   "source": [
    "sample"
   ]
  },
  {
   "cell_type": "code",
   "execution_count": 10,
   "metadata": {},
   "outputs": [
    {
     "data": {
      "text/plain": [
       "array([1, 2, 3, 3, 3, 2, 2, 2, 2, 2, 1, 3, 1, 1, 3, 3, 1, 2, 1, 3, 3, 2,\n",
       "       1, 2, 2, 2, 2, 2, 1, 3, 2], dtype=int64)"
      ]
     },
     "execution_count": 10,
     "metadata": {},
     "output_type": "execute_result"
    }
   ],
   "source": [
    "sample = df.roll.values\r\n",
    "sample"
   ]
  },
  {
   "cell_type": "code",
   "execution_count": 11,
   "metadata": {},
   "outputs": [
    {
     "data": {
      "text/plain": [
       "array([1, 1, 1, 1, 1, 1, 1, 1], dtype=int64)"
      ]
     },
     "execution_count": 11,
     "metadata": {},
     "output_type": "execute_result"
    }
   ],
   "source": [
    "sample[sample==1]"
   ]
  },
  {
   "cell_type": "code",
   "execution_count": 12,
   "metadata": {},
   "outputs": [
    {
     "name": "stdout",
     "output_type": "stream",
     "text": [
      "Истинное значение параметра:  0.3333333333333333\n",
      "Оценка вероятности успеха:  0.25806451612903225\n"
     ]
    }
   ],
   "source": [
    "print(\"Истинное значение параметра: \",p)\n",
    "print(\"Оценка вероятности успеха: \",len(sample[sample==1])/len(sample))"
   ]
  },
  {
   "cell_type": "markdown",
   "metadata": {},
   "source": [
    "Для того, чтобы построить доверительный интервал в модели Бернулли, можно воспользоваться методом proportion_confint  класса statsmodels.stats.proportion. Подробнее можно прочитать тут: https://www.statsmodels.org/stable/generated/statsmodels.stats.proportion.proportion_confint.html\n",
    "\n",
    "В целом, про доверительные интервалы в модели Бернулли можно почитать либо в английской Википедии: \n",
    "https://en.wikipedia.org/wiki/Binomial_proportion_confidence_interval  \n",
    "либо в этой статье:  \n",
    "http://medstatistic.ru/articles/doveritelnye-intervaly-dlya-chastot-i-doley.pdf"
   ]
  },
  {
   "cell_type": "code",
   "execution_count": 13,
   "metadata": {},
   "outputs": [
    {
     "data": {
      "text/plain": [
       "63"
      ]
     },
     "execution_count": 13,
     "metadata": {},
     "output_type": "execute_result"
    }
   ],
   "source": [
    "sum(sample)"
   ]
  },
  {
   "cell_type": "code",
   "execution_count": 14,
   "metadata": {},
   "outputs": [
    {
     "name": "stdout",
     "output_type": "stream",
     "text": [
      "Асимптотический доверительный интервал на основе ЦПТ равен  (0.10403127218279784, 0.41209776007526666)\n"
     ]
    }
   ],
   "source": [
    "CI_Normal = statsmodels.stats.proportion.proportion_confint(len(sample[sample==1]), len(sample), alpha, method = 'normal')\r\n",
    "print(\"Асимптотический доверительный интервал на основе ЦПТ равен \", CI_Normal)"
   ]
  },
  {
   "cell_type": "code",
   "execution_count": 15,
   "metadata": {},
   "outputs": [
    {
     "name": "stdout",
     "output_type": "stream",
     "text": [
      "Доверительный интервал 1 Уилсона равен  (0.1370170590639374, 0.432461358094338)\n"
     ]
    }
   ],
   "source": [
    "CI_Wilson = statsmodels.stats.proportion.proportion_confint(len(sample[sample==1]), len(sample), alpha, method = 'wilson')\n",
    "print(\"Доверительный интервал 1 Уилсона равен \", CI_Wilson)"
   ]
  },
  {
   "cell_type": "code",
   "execution_count": 16,
   "metadata": {},
   "outputs": [
    {
     "name": "stdout",
     "output_type": "stream",
     "text": [
      "Доверительный интервал 2 Уилсона равен  (0.2916173598052002, 0.622278323626455)\n"
     ]
    }
   ],
   "source": [
    "CI_Wilson2 = statsmodels.stats.proportion.proportion_confint(len(sample[sample==2]), len(sample), alpha, method = 'wilson')\n",
    "print(\"Доверительный интервал 2 Уилсона равен \", CI_Wilson2)"
   ]
  },
  {
   "cell_type": "code",
   "execution_count": 17,
   "metadata": {},
   "outputs": [
    {
     "name": "stdout",
     "output_type": "stream",
     "text": [
      "Доверительный интервал 2 Уилсона равен  (0.16095800156300613, 0.4659232933074994)\n"
     ]
    }
   ],
   "source": [
    "CI_Wilson = statsmodels.stats.proportion.proportion_confint(len(sample[sample==3]), len(sample), alpha, method = 'wilson')\n",
    "print(\"Доверительный интервал 2 Уилсона равен \", CI_Wilson)"
   ]
  },
  {
   "cell_type": "code",
   "execution_count": 18,
   "metadata": {},
   "outputs": [
    {
     "data": {
      "text/plain": [
       "34147"
      ]
     },
     "execution_count": 18,
     "metadata": {},
     "output_type": "execute_result"
    }
   ],
   "source": [
    "from statsmodels.stats.proportion import samplesize_confint_proportion\n",
    "sufficient_size = int(np.ceil(samplesize_confint_proportion(1/3, 0.005))) \n",
    "sufficient_size"
   ]
  },
  {
   "cell_type": "code",
   "execution_count": 19,
   "metadata": {},
   "outputs": [
    {
     "data": {
      "text/plain": [
       "0.3678794411714425"
      ]
     },
     "execution_count": 19,
     "metadata": {},
     "output_type": "execute_result"
    }
   ],
   "source": [
    "chisquare(np.unique(sample, return_counts=True)[1])[1]"
   ]
  },
  {
   "cell_type": "code",
   "execution_count": 20,
   "metadata": {},
   "outputs": [],
   "source": [
    "s2= randint.rvs(1, 4, size=1300)"
   ]
  },
  {
   "cell_type": "code",
   "execution_count": 21,
   "metadata": {},
   "outputs": [
    {
     "data": {
      "text/plain": [
       "0.11054775357728734"
      ]
     },
     "execution_count": 21,
     "metadata": {},
     "output_type": "execute_result"
    }
   ],
   "source": [
    "chisquare(np.unique(randint.rvs(1, 4, size=1300), return_counts=True)[1])[1]\r\n"
   ]
  },
  {
   "cell_type": "code",
   "execution_count": 22,
   "metadata": {},
   "outputs": [
    {
     "name": "stdout",
     "output_type": "stream",
     "text": [
      "Доверительный интервал 2 Уилсона равен  (0.3094859258891552, 0.36071937622715505)\n"
     ]
    }
   ],
   "source": [
    "CI_Wilson = statsmodels.stats.proportion.proportion_confint(len(s2[s2==3]), len(s2), alpha, method = 'wilson')\n",
    "print(\"Доверительный интервал 2 Уилсона равен \", CI_Wilson)"
   ]
  },
  {
   "cell_type": "code",
   "execution_count": 23,
   "metadata": {},
   "outputs": [
    {
     "data": {
      "text/plain": [
       "0.44899056365532375"
      ]
     },
     "execution_count": 23,
     "metadata": {},
     "output_type": "execute_result"
    }
   ],
   "source": [
    "\r\n",
    "stats.binom_test(len(sample[sample==1]), len(sample), 1/3, alternative = 'two-sided')"
   ]
  },
  {
   "cell_type": "code",
   "execution_count": 24,
   "metadata": {},
   "outputs": [
    {
     "data": {
      "text/plain": [
       "0.18289463579178455"
      ]
     },
     "execution_count": 24,
     "metadata": {},
     "output_type": "execute_result"
    }
   ],
   "source": [
    "stats.binom_test(len(sample[sample==2]), len(sample), 1/3, alternative = 'two-sided')"
   ]
  },
  {
   "cell_type": "code",
   "execution_count": 25,
   "metadata": {},
   "outputs": [
    {
     "data": {
      "text/plain": [
       "0.705671978101602"
      ]
     },
     "execution_count": 25,
     "metadata": {},
     "output_type": "execute_result"
    }
   ],
   "source": [
    "stats.binom_test(len(sample[sample==3]), len(sample), 1/3, alternative = 'two-sided')"
   ]
  },
  {
   "cell_type": "code",
   "execution_count": 26,
   "metadata": {},
   "outputs": [
    {
     "data": {
      "text/plain": [
       "31"
      ]
     },
     "execution_count": 26,
     "metadata": {},
     "output_type": "execute_result"
    }
   ],
   "source": [
    "len(sample)"
   ]
  },
  {
   "cell_type": "code",
   "execution_count": 27,
   "metadata": {},
   "outputs": [
    {
     "data": {
      "image/png": "[encoded data removed]",
      "text/plain": [
       "<Figure size 432x288 with 1 Axes>"
      ]
     },
     "metadata": {
      "needs_background": "light"
     },
     "output_type": "display_data"
    }
   ],
   "source": [
    "\n",
    "n = len(sample)\n",
    "F_H0 = stats.binom(n, 1/3)\n",
    "\n",
    "x = [int(i) for i in np.linspace(0,n-1,1000)]\n",
    "\n",
    "plt.plot(x, F_H0.pmf(x))\n",
    "plt.xlim(-0.5, n) \n",
    "plt.axvline(x=n/3, c='red')\n",
    "plt.axvline(x=CI_Wilson2[0]*n, c='black')\n",
    "plt.axvline(x=CI_Wilson2[1]*n, c='black')\n",
    "\n",
    "plt.show()"
   ]
  },
  {
   "cell_type": "code",
   "execution_count": null,
   "metadata": {},
   "outputs": [],
   "source": []
  }
 ],
 "metadata": {
  "interpreter": {
   "hash": "550c20a9657717230d10464eebd6552a32b52de9d7f0e76f6f7a9a4c6cbea1e2"
  },
  "kernelspec": {
   "display_name": "Python 3.8.3 64-bit ('base': conda)",
   "name": "python3"
  },
  "language_info": {
   "codemirror_mode": {
    "name": "ipython",
    "version": 3
   },
   "file_extension": ".py",
   "mimetype": "text/x-python",
   "name": "python",
   "nbconvert_exporter": "python",
   "pygments_lexer": "ipython3",
   "version": "3.8.3"
  }
 },
 "nbformat": 4,
 "nbformat_minor": 2
}