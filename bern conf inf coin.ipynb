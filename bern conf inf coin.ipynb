{
 "cells": [
  {
   "cell_type": "markdown",
   "metadata": {},
   "source": [
    "## Доверительные интервалы. Распределение Бернулли с неизвестной вероятностью успеха"
   ]
  },
  {
   "cell_type": "markdown",
   "metadata": {},
   "source": [
    "**Задача.** Пусть дана выборка из распределения Бернулли (можно считать, например, это это клики по рекламному баннеру в Интернете) длины $n=290$ и вероятностью успеха, равномерно распределенной на $[0.01,0.05]$. Оценить параметр успеха. Построить для него доверительные интервалы: (1) асимптотический, основанный на центральной предельной теореме, (2) доверительный интервал Уилсона. "
   ]
  },
  {
   "cell_type": "code",
   "execution_count": 70,
   "metadata": {},
   "outputs": [],
   "source": [
    "%matplotlib inline\r\n",
    "\r\n",
    "import matplotlib.pyplot as plt\r\n",
    "import numpy as np # для генерации случайных величин и работы с массивами\r\n",
    "import statsmodels.stats.proportion # для построения доверительных интервалов в модели Бернулли \r\n",
    "import datetime\r\n",
    "import os\r\n",
    "import sqlite3\r\n",
    "from scipy import stats\r\n",
    "import pandas as pd\r\n",
    "import sqlite3\r\n",
    "from scipy.stats import chisquare, randint\r\n",
    "\r\n"
   ]
  },
  {
   "cell_type": "code",
   "execution_count": 71,
   "metadata": {},
   "outputs": [],
   "source": [
    "np.random.seed(123) # фиксируем seed"
   ]
  },
  {
   "cell_type": "code",
   "execution_count": 72,
   "metadata": {},
   "outputs": [],
   "source": [
    "# Фиксируем параметры задачи\n",
    "\n",
    "n = 290 # размер выборки \n",
    "alpha = 0.05 # параметр ошибки\n",
    "\n",
    "p = np.random.uniform(0.01,0.05) # неизвестный параметр успеха\n",
    "p = 1/3"
   ]
  },
  {
   "cell_type": "code",
   "execution_count": 73,
   "metadata": {},
   "outputs": [],
   "source": [
    "if not os.path.exists('tosses.db'):\r\n",
    "    conn = sqlite3.connect('tosses.db')\r\n",
    "    cur = conn.cursor()\r\n",
    "    # Make some fresh tables using executescript()\r\n",
    "    cur.executescript('''CREATE TABLE \"timelog\" (\r\n",
    "    \"stamp\" TEXT,\r\n",
    "    \"roll\"    INTEGER,\r\n",
    "    PRIMARY KEY(\"stamp\")\r\n",
    "    );''')\r\n",
    "    conn.commit()\r\n",
    "    cur.close()\r\n",
    "\r\n",
    "\r\n",
    "def add_roll(result, cur_time):\r\n",
    "    try:\r\n",
    "        sqlite_con = sqlite3.connect('tosses.db')\r\n",
    "        cursor = sqlite_con.cursor()\r\n",
    "        sqlite_insert = \"\"\"INSERT INTO 'timelog'\r\n",
    "                ('stamp', 'roll')\r\n",
    "                VALUES (?, ?);\"\"\"\r\n",
    "        data_tuple = (cur_time, result)\r\n",
    "        cursor.execute(sqlite_insert, data_tuple)\r\n",
    "        sqlite_con.commit()\r\n",
    "        sqlite_con.close()\r\n",
    "    except sqlite3.Error as error:\r\n",
    "        print(\"Error while working with sqlite\", error)\r\n",
    "\r\n",
    "\r\n",
    "def pvalue_binom(data):\r\n",
    "    res = []\r\n",
    "    n = len(np.unique(data))\r\n",
    "    for i in np.unique(data):\r\n",
    "        res.append(stats.binom_test(len(data[data==i]), len(data), 1/n, alternative = 'two-sided'))\r\n",
    "    return(res)\r\n",
    "\r\n",
    "def ci_wilson_print(data, alpha=0.05):\r\n",
    "    n = len(np.unique(data))\r\n",
    "    data_size = len(data)\r\n",
    "    for i in np.unique(data):\r\n",
    "        CI_Wilsoni = statsmodels.stats.proportion.proportion_confint(len(data[data==i]), data_size, alpha, method = 'wilson')\r\n",
    "        print(f'Доверительный интервал {i} Уилсона равен {CI_Wilsoni}')\r\n",
    "        \r\n",
    "    \r\n"
   ]
  },
  {
   "cell_type": "code",
   "execution_count": null,
   "metadata": {},
   "outputs": [],
   "source": []
  },
  {
   "cell_type": "code",
   "execution_count": 74,
   "metadata": {},
   "outputs": [
    {
     "name": "stdout",
     "output_type": "stream",
     "text": [
      "заношу 3\n",
      "Доверительный интервал 1 Уилсона равен (0.22680688692369214, 0.3868840903358215)\n",
      "Доверительный интервал 2 Уилсона равен (0.2710402385531589, 0.4372570299897391)\n",
      "Доверительный интервал 3 Уилсона равен (0.2710402385531589, 0.4372570299897391)\n",
      "PV Хиквадрат теста 0.7462587218075878\n",
      "PV p каждое значение равно 1/n :[0.5033716044454548, 0.7027236112119326, 0.7027236112119326]\n",
      "заношу 1\n",
      "Доверительный интервал 1 Уилсона равен (0.23214052745767874, 0.39239442041613193)\n",
      "Доверительный интервал 2 Уилсона равен (0.268747509353244, 0.4340093243801896)\n",
      "Доверительный интервал 3 Уилсона равен (0.268747509353244, 0.4340093243801896)\n",
      "PV Хиквадрат теста 0.8174112839793034\n",
      "PV p каждое значение равно 1/n :[0.5684008671961855, 0.7752465589211213, 0.7752465589211213]\n",
      "заношу 3\n",
      "Доверительный интервал 1 Уилсона равен (0.23020330949980425, 0.38948432483385975)\n",
      "Доверительный интервал 2 Уилсона равен (0.2664934587497082, 0.43080894408728965)\n",
      "Доверительный интервал 3 Уилсона равен (0.27382791107294646, 0.4389974454647182)\n",
      "PV Хиквадрат теста 0.7803599432780343\n",
      "PV p каждое значение равно 1/n :[0.5083768589529979, 0.8495626231065059, 0.7044039311888233]\n",
      "заношу 1\n",
      "Доверительный интервал 1 Уилсона равен (0.23544224240869888, 0.39487614406071)\n",
      "Доверительный интервал 2 Уилсона равен (0.2642771098758241, 0.42765487884868325)\n",
      "Доверительный интервал 3 Уилсона равен (0.2715482562775235, 0.4357871330107585)\n",
      "PV Хиквадрат теста 0.8464817248906141\n",
      "PV p каждое значение равно 1/n :[0.636806735891186, 0.8504475488529409, 0.7061017538418635]\n",
      "заношу 1\n",
      "Доверительный интервал 1 Уилсона равен (0.24061761047132812, 0.400169029912978)\n",
      "Доверительный интервал 2 Уилсона равен (0.26209751872893516, 0.4245461462871616)\n",
      "Доверительный интервал 3 Уилсона равен (0.2693064586118057, 0.4326228812815547)\n",
      "PV Хиквадрат теста 0.9027025293270748\n",
      "PV p каждое значение равно 1/n :[0.7071559941338605, 0.9250762868020675, 0.7778424783084472]\n",
      "заношу 1\n",
      "Доверительный интервал 1 Уилсона равен (0.2457302061060092, 0.4053658875547829)\n",
      "Доверительный интервал 2 Уилсона равен (0.2599537727882833, 0.4214817909889617)\n",
      "Доверительный интервал 3 Уилсона равен (0.26710157668112267, 0.42950372215434873)\n",
      "PV Хиквадрат теста 0.9467809707821289\n",
      "PV p каждое значение равно 1/n :[0.7795056897007901, 1.0, 0.8513141815606874]\n",
      "заношу 3\n",
      "Доверительный интервал 1 Уилсона равен (0.24374065107364803, 0.40245414069358665)\n",
      "Доверительный интервал 2 Уилсона равен (0.2578449897026774, 0.41846088361628203)\n",
      "Доверительный интервал 3 Уилсона равен (0.2720435842583304, 0.4343733706123537)\n",
      "PV Хиквадрат теста 0.9111723099960218\n",
      "PV p каждое значение равно 1/n :[0.7795154001121298, 1.0, 0.7093673885913871]\n",
      "заношу 3\n",
      "Доверительный интервал 1 Уилсона равен (0.2417831983320857, 0.3995835319550889)\n",
      "Доверительный интервал 2 Уилсона равен (0.2557703160438775, 0.4154825200526992)\n",
      "Доверительный интервал 3 Уилсона равен (0.2769244485949699, 0.4391575462157101)\n",
      "PV Хиквадрат теста 0.8640247660718853\n",
      "PV p каждое значение равно 1/n :[0.7103880607166873, 1.0, 0.6420791356403068]\n",
      "заношу 2\n",
      "Доверительный интервал 1 Уилсона равен (0.2398570731731085, 0.39675320656913377)\n",
      "Доверительный интервал 2 Уилсона равен (0.260699471527756, 0.42040750865421167)\n",
      "Доверительный интервал 3 Уилсона равен (0.27470788822941167, 0.436063558912373)\n",
      "PV Хиквадрат теста 0.8649892776227542\n",
      "PV p каждое значение равно 1/n :[0.6445256149991371, 1.0, 0.7109392306147909]\n",
      "заношу 2\n",
      "Доверительный интервал 1 Уилсона равен (0.23796152576065904, 0.3939623328751776)\n",
      "Доверительный интервал 2 Уилсона равен (0.2655691312967705, 0.4252469099573323)\n",
      "Доверительный интервал 3 Уилсона равен (0.27252673004942124, 0.43301235685924816)\n",
      "PV Хиквадрат теста 0.8529188173702604\n",
      "PV p каждое значение равно 1/n :[0.644568501229032, 0.8538317602670754, 0.7125266195334221]\n",
      "заношу 3\n",
      "Доверительный интервал 1 Уилсона равен (0.2360958301341484, 0.39121010156578884)\n",
      "Доверительный интервал 2 Уилсона равен (0.2634792851261977, 0.42228846120904345)\n",
      "Доверительный интервал 3 Уилсона равен (0.27730226369007904, 0.4376963899628141)\n",
      "PV Хиквадрат теста 0.8101577349324268\n",
      "PV p каждое значение равно 1/n :[0.5817522892661329, 0.9267782452562023, 0.6458546278085714]\n",
      "заношу 1\n",
      "Доверительный интервал 1 Уилсона равен (0.24101669652170593, 0.3962477344573611)\n",
      "Доверительный интервал 2 Уилсона равен (0.2614222426198383, 0.4193704566417407)\n",
      "Доверительный интервал 3 Уилсона равен (0.27513329108181755, 0.43467825370143615)\n",
      "PV Хиквадрат теста 0.8678025694222895\n",
      "PV p каждое значение равно 1/n :[0.6482269588821189, 1.0, 0.7140485172322094]\n",
      "заношу 1\n",
      "Доверительный интервал 1 Уилсона равен (0.24588059926850298, 0.40119887961193196)\n",
      "Доверительный интервал 2 Уилсона равен (0.2593972328490745, 0.4164920844901004)\n",
      "Доверительный интервал 3 Уилсона равен (0.27299817508686886, 0.4317009807110461)\n",
      "PV Хиквадрат теста 0.9149472287300311\n",
      "PV p каждое значение равно 1/n :[0.7843405466189792, 1.0, 0.7155850973484816]\n",
      "заношу 1\n",
      "Доверительный интервал 1 Уилсона равен (0.25068824484449337, 0.4060659080026533)\n",
      "Доверительный интервал 2 Уилсона равен (0.2574035090191336, 0.41365255412604857)\n",
      "Доверительный интервал 3 Уилсона равен (0.27089612395819135, 0.42876375978306197)\n",
      "PV Хиквадрат теста 0.9498315857744878\n",
      "PV p каждое значение равно 1/n :[0.8559608062757494, 1.0, 0.7851218585425086]\n",
      "заношу 3\n",
      "Доверительный интервал 1 Уилсона равен (0.24877798989522745, 0.40331308889441986)\n",
      "Доверительный интервал 2 Уилсона равен (0.25544034752469186, 0.41085109539599024)\n",
      "Доверительный интервал 3 Уилсона равен (0.27554940331047595, 0.43334313200331065)\n",
      "PV Хиквадрат теста 0.9094725062988309\n",
      "PV p каждое значение равно 1/n :[0.7866290701964079, 1.0, 0.7170596376555183]\n",
      "заношу 3\n",
      "Доверительный интервал 1 Уилсона равен (0.24689675862030047, 0.40059699662084913)\n",
      "Доверительный интервал 2 Уилсона равен (0.2535070470498724, 0.40808695798163125)\n",
      "Доверительный интервал 3 Уилсона равен (0.2801479560753849, 0.43784704811753483)\n",
      "PV Хиквадрат теста 0.8588389044645256\n",
      "PV p каждое значение равно 1/n :[0.7866372935335866, 0.9281115863744207, 0.5887815828512195]\n",
      "заношу 2\n",
      "Доверительный интервал 1 Уилсона равен (0.24504389113703245, 0.39791691015232405)\n",
      "Доверительный интервал 2 Уилсона равен (0.2581820083769882, 0.4127818673210463)\n",
      "Доверительный интервал 3 Уилсона равен (0.278036359352847, 0.43493212795820435)\n",
      "PV Хиквадрат теста 0.8722400140448053\n",
      "PV p каждое значение равно 1/n :[0.7194779840644705, 1.0, 0.6530611193139744]\n",
      "Доверительный интервал 1 Уилсона равен (0.24504389113703245, 0.39791691015232405)\n",
      "Доверительный интервал 2 Уилсона равен (0.2581820083769882, 0.4127818673210463)\n",
      "Доверительный интервал 3 Уилсона равен (0.278036359352847, 0.43493212795820435)\n",
      "PV Хиквадрат теста 0.8722400140448053\n",
      "PV p каждое значение равно 1/n :[0.7194779840644705, 1.0, 0.6530611193139744]\n",
      "Доверительный интервал 2 Уилсона равен  (0.2581820083769882, 0.4127818673210463)\n"
     ]
    },
    {
     "data": {
      "image/png": "[encoded data removed]",
      "text/plain": [
       "<Figure size 432x288 with 1 Axes>"
      ]
     },
     "metadata": {
      "needs_background": "light"
     },
     "output_type": "display_data"
    }
   ],
   "source": [
    "new_roll = ''\r\n",
    "con = sqlite3.connect(\"tosses.db\")\r\n",
    "\r\n",
    "\r\n",
    "# Start a loop that will run until the user enters 'quit'.\r\n",
    "while new_roll != 'quit':\r\n",
    "    # Ask the user for a name.\r\n",
    "    new_roll = input('what did it roll? (type quit to exit)')\r\n",
    "\r\n",
    "    # Add the new roll \r\n",
    "    if new_roll != 'quit':\r\n",
    "        try:\r\n",
    "            roll_value = int(new_roll)\r\n",
    "            print(f'заношу {roll_value}')\r\n",
    "            add_roll(roll_value, datetime.datetime.now())\r\n",
    "\r\n",
    "        except ValueError:\r\n",
    "            print(f'введено \"{new_roll}\", нужно вводить целове число')\r\n",
    "    \r\n",
    "    df = pd.read_sql_query(\"SELECT * from timelog\", con)\r\n",
    "    sample = df.roll.values\r\n",
    "    ci_wilson_print(sample, alpha=alpha)\r\n",
    "    print(\"PV Хиквадрат теста\", chisquare(np.unique(sample, return_counts=True)[1])[1])\r\n",
    "    print(f'PV p каждое значение равно 1/n :{pvalue_binom(sample)}')\r\n",
    "\r\n",
    "    \r\n",
    "\r\n",
    "\r\n",
    "con.close()\r\n",
    "\r\n",
    "CI_Wilson2 = statsmodels.stats.proportion.proportion_confint(len(sample[sample==2]), len(sample), alpha, method = 'wilson')\r\n",
    "print(\"Доверительный интервал 2 Уилсона равен \", CI_Wilson2)\r\n",
    "n = len(sample)\r\n",
    "F_H0 = stats.binom(n, 1/len(np.unique(sample)))\r\n",
    "\r\n",
    "x = [int(i) for i in np.linspace(0,n-1,1000)]\r\n",
    "\r\n",
    "plt.plot(x, F_H0.pmf(x))\r\n",
    "plt.xlim(-0.5, n) \r\n",
    "plt.axvline(x=n/len(np.unique(sample)), c='red')\r\n",
    "plt.axvline(x=CI_Wilson2[0]*n, c='black')\r\n",
    "plt.axvline(x=CI_Wilson2[1]*n, c='black')\r\n",
    "plt.show()\r\n",
    "\r\n"
   ]
  },
  {
   "cell_type": "code",
   "execution_count": null,
   "metadata": {},
   "outputs": [],
   "source": [
    "\r\n"
   ]
  },
  {
   "cell_type": "code",
   "execution_count": 75,
   "metadata": {},
   "outputs": [
    {
     "name": "stdout",
     "output_type": "stream",
     "text": [
      "                        stamp  roll\n",
      "0  2021-06-30 16:42:09.469770     1\n",
      "1  2021-06-30 16:42:13.720220     2\n",
      "2  2021-06-30 16:42:20.903245     3\n",
      "3  2021-06-30 16:42:24.637841     3\n",
      "4  2021-06-30 16:42:26.211745     3\n"
     ]
    }
   ],
   "source": [
    "# Read sqlite query results into a pandas DataFrame\r\n",
    "con = sqlite3.connect(\"tosses.db\")\r\n",
    "df = pd.read_sql_query(\"SELECT * from timelog\", con)\r\n",
    "\r\n",
    "# Verify that result of SQL query is stored in the dataframe\r\n",
    "print(df.head())\r\n",
    "\r\n",
    "con.close()"
   ]
  },
  {
   "cell_type": "code",
   "execution_count": 76,
   "metadata": {},
   "outputs": [
    {
     "data": {
      "text/plain": [
       "array([1, 2, 3, 3, 3, 2, 2, 2, 2, 2, 1, 3, 1, 1, 3, 3, 1, 2, 1, 3, 3, 2,\n",
       "       1, 2, 2, 2, 2, 2, 1, 3, 2, 3, 2, 3, 1, 2, 3, 3, 2, 1, 1, 3, 3, 3,\n",
       "       2, 1, 2, 1, 2, 1, 3, 1, 3, 1, 3, 2, 1, 2, 1, 2, 1, 3, 2, 1, 2, 2,\n",
       "       3, 1, 1, 1, 1, 2, 2, 2, 2, 2, 1, 2, 1, 3, 1, 1, 1, 3, 2, 2, 3, 3,\n",
       "       1, 2, 1, 2, 3, 3, 3, 3, 3, 3, 2, 1, 1, 3, 3, 2, 2, 1, 3, 3, 3, 2,\n",
       "       1, 3, 3, 3, 1, 2, 2, 3, 1, 3, 3, 2, 3, 1, 3, 1, 1, 1, 3, 3, 2, 2,\n",
       "       3, 1, 1, 1, 3, 3, 2], dtype=int64)"
      ]
     },
     "execution_count": 76,
     "metadata": {},
     "output_type": "execute_result"
    }
   ],
   "source": [
    "df.roll.values"
   ]
  },
  {
   "cell_type": "code",
   "execution_count": 77,
   "metadata": {},
   "outputs": [
    {
     "data": {
      "text/plain": [
       "array([1, 2, 3, 3, 3, 2, 2, 2, 2, 2, 1, 3, 1, 1, 3, 3, 1, 2, 1, 3, 3, 2,\n",
       "       1, 2, 2, 2, 2, 2, 1, 3, 2, 3, 2, 3, 1, 2, 3, 3, 2, 1, 1, 3, 3, 3,\n",
       "       2, 1, 2, 1, 2, 1, 3, 1, 3, 1, 3, 2, 1, 2, 1, 2, 1, 3, 2, 1, 2, 2,\n",
       "       3, 1, 1, 1, 1, 2, 2, 2, 2, 2, 1, 2, 1, 3, 1, 1, 1, 3, 2, 2, 3, 3,\n",
       "       1, 2, 1, 2, 3, 3, 3, 3, 3, 3, 2, 1, 1, 3, 3, 2, 2, 1, 3, 3, 3, 2,\n",
       "       1, 3, 3, 3, 1, 2, 2, 3, 1, 3, 3, 2, 3, 1, 3, 1, 1, 1, 3, 3, 2, 2,\n",
       "       3, 1, 1, 1, 3, 3, 2], dtype=int64)"
      ]
     },
     "execution_count": 77,
     "metadata": {},
     "output_type": "execute_result"
    }
   ],
   "source": [
    "sample = df.roll.values\r\n",
    "sample"
   ]
  },
  {
   "cell_type": "code",
   "execution_count": 78,
   "metadata": {},
   "outputs": [
    {
     "name": "stdout",
     "output_type": "stream",
     "text": [
      "Истинное значение параметра:  0.3333333333333333\n",
      "Оценка вероятности успеха:  0.33093525179856115\n"
     ]
    }
   ],
   "source": [
    "print(\"Истинное значение параметра: \",p)\r\n",
    "print(\"Оценка вероятности успеха: \",len(sample[sample==2])/len(sample))"
   ]
  },
  {
   "cell_type": "markdown",
   "metadata": {},
   "source": [
    "Для того, чтобы построить доверительный интервал в модели Бернулли, можно воспользоваться методом proportion_confint  класса statsmodels.stats.proportion. Подробнее можно прочитать тут: https://www.statsmodels.org/stable/generated/statsmodels.stats.proportion.proportion_confint.html\n",
    "\n",
    "В целом, про доверительные интервалы в модели Бернулли можно почитать либо в английской Википедии: \n",
    "https://en.wikipedia.org/wiki/Binomial_proportion_confidence_interval  \n",
    "либо в этой статье:  \n",
    "http://medstatistic.ru/articles/doveritelnye-intervaly-dlya-chastot-i-doley.pdf"
   ]
  },
  {
   "cell_type": "code",
   "execution_count": 79,
   "metadata": {},
   "outputs": [
    {
     "data": {
      "text/plain": [
       "283"
      ]
     },
     "execution_count": 79,
     "metadata": {},
     "output_type": "execute_result"
    }
   ],
   "source": [
    "sum(sample)"
   ]
  },
  {
   "cell_type": "code",
   "execution_count": 80,
   "metadata": {},
   "outputs": [
    {
     "name": "stdout",
     "output_type": "stream",
     "text": [
      "Асимптотический доверительный интервал на основе ЦПТ равен  (0.23922281255474853, 0.39387071262510753)\n"
     ]
    }
   ],
   "source": [
    "CI_Normal = statsmodels.stats.proportion.proportion_confint(len(sample[sample==1]), len(sample), alpha, method = 'normal')\r\n",
    "print(\"Асимптотический доверительный интервал на основе ЦПТ равен \", CI_Normal)"
   ]
  },
  {
   "cell_type": "code",
   "execution_count": 81,
   "metadata": {},
   "outputs": [
    {
     "name": "stdout",
     "output_type": "stream",
     "text": [
      "Доверительный интервал 1 Уилсона равен  (0.24504389113703245, 0.39791691015232405)\n"
     ]
    }
   ],
   "source": [
    "CI_Wilson = statsmodels.stats.proportion.proportion_confint(len(sample[sample==1]), len(sample), alpha, method = 'wilson')\n",
    "print(\"Доверительный интервал 1 Уилсона равен \", CI_Wilson)"
   ]
  },
  {
   "cell_type": "code",
   "execution_count": 82,
   "metadata": {},
   "outputs": [
    {
     "name": "stdout",
     "output_type": "stream",
     "text": [
      "Доверительный интервал 2 Уилсона равен  (0.2581820083769882, 0.4127818673210463)\n"
     ]
    }
   ],
   "source": [
    "CI_Wilson2 = statsmodels.stats.proportion.proportion_confint(len(sample[sample==2]), len(sample), alpha, method = 'wilson')\n",
    "print(\"Доверительный интервал 2 Уилсона равен \", CI_Wilson2)"
   ]
  },
  {
   "cell_type": "code",
   "execution_count": 83,
   "metadata": {},
   "outputs": [
    {
     "name": "stdout",
     "output_type": "stream",
     "text": [
      "Доверительный интервал 2 Уилсона равен  (0.278036359352847, 0.43493212795820435)\n"
     ]
    }
   ],
   "source": [
    "CI_Wilson = statsmodels.stats.proportion.proportion_confint(len(sample[sample==3]), len(sample), alpha, method = 'wilson')\n",
    "print(\"Доверительный интервал 2 Уилсона равен \", CI_Wilson)"
   ]
  },
  {
   "cell_type": "code",
   "execution_count": 84,
   "metadata": {},
   "outputs": [
    {
     "data": {
      "text/plain": [
       "34147"
      ]
     },
     "execution_count": 84,
     "metadata": {},
     "output_type": "execute_result"
    }
   ],
   "source": [
    "from statsmodels.stats.proportion import samplesize_confint_proportion\n",
    "sufficient_size = int(np.ceil(samplesize_confint_proportion(1/3, 0.005))) \n",
    "sufficient_size"
   ]
  },
  {
   "cell_type": "code",
   "execution_count": 85,
   "metadata": {},
   "outputs": [
    {
     "data": {
      "text/plain": [
       "array([44, 46, 49], dtype=int64)"
      ]
     },
     "execution_count": 85,
     "metadata": {},
     "output_type": "execute_result"
    }
   ],
   "source": [
    "np.unique(sample, return_counts=True)[1]"
   ]
  },
  {
   "cell_type": "code",
   "execution_count": 86,
   "metadata": {},
   "outputs": [
    {
     "data": {
      "text/plain": [
       "0.8722400140448053"
      ]
     },
     "execution_count": 86,
     "metadata": {},
     "output_type": "execute_result"
    }
   ],
   "source": [
    "chisquare(np.unique(sample, return_counts=True)[1])[1]"
   ]
  },
  {
   "cell_type": "code",
   "execution_count": 87,
   "metadata": {},
   "outputs": [
    {
     "data": {
      "text/plain": [
       "0.7194779840644705"
      ]
     },
     "execution_count": 87,
     "metadata": {},
     "output_type": "execute_result"
    }
   ],
   "source": [
    "\r\n",
    "stats.binom_test(len(sample[sample==1]), len(sample), 1/3, alternative = 'two-sided')"
   ]
  },
  {
   "cell_type": "code",
   "execution_count": 88,
   "metadata": {},
   "outputs": [
    {
     "data": {
      "text/plain": [
       "1.0"
      ]
     },
     "execution_count": 88,
     "metadata": {},
     "output_type": "execute_result"
    }
   ],
   "source": [
    "stats.binom_test(len(sample[sample==2]), len(sample), 1/3, alternative = 'two-sided')"
   ]
  },
  {
   "cell_type": "code",
   "execution_count": 89,
   "metadata": {},
   "outputs": [
    {
     "data": {
      "text/plain": [
       "0.6530611193139744"
      ]
     },
     "execution_count": 89,
     "metadata": {},
     "output_type": "execute_result"
    }
   ],
   "source": [
    "stats.binom_test(len(sample[sample==3]), len(sample), 1/3, alternative = 'two-sided')"
   ]
  },
  {
   "cell_type": "code",
   "execution_count": 90,
   "metadata": {},
   "outputs": [
    {
     "data": {
      "text/plain": [
       "139"
      ]
     },
     "execution_count": 90,
     "metadata": {},
     "output_type": "execute_result"
    }
   ],
   "source": [
    "len(sample)"
   ]
  },
  {
   "cell_type": "code",
   "execution_count": 91,
   "metadata": {},
   "outputs": [
    {
     "data": {
      "image/png": "[encoded data removed]",
      "text/plain": [
       "<Figure size 432x288 with 1 Axes>"
      ]
     },
     "metadata": {
      "needs_background": "light"
     },
     "output_type": "display_data"
    }
   ],
   "source": [
    "\n",
    "n = len(sample)\n",
    "F_H0 = stats.binom(n, 1/3)\n",
    "\n",
    "x = [int(i) for i in np.linspace(0,n-1,1000)]\n",
    "\n",
    "plt.plot(x, F_H0.pmf(x))\n",
    "plt.xlim(-0.5, n) \n",
    "plt.axvline(x=n/3, c='red')\n",
    "plt.axvline(x=CI_Wilson2[0]*n, c='black')\n",
    "plt.axvline(x=CI_Wilson2[1]*n, c='black')\n",
    "\n",
    "plt.show()"
   ]
  },
  {
   "cell_type": "code",
   "execution_count": null,
   "metadata": {},
   "outputs": [],
   "source": []
  }
 ],
 "metadata": {
  "interpreter": {
   "hash": "550c20a9657717230d10464eebd6552a32b52de9d7f0e76f6f7a9a4c6cbea1e2"
  },
  "kernelspec": {
   "display_name": "Python 3.8.3 64-bit ('base': conda)",
   "name": "python3"
  },
  "language_info": {
   "codemirror_mode": {
    "name": "ipython",
    "version": 3
   },
   "file_extension": ".py",
   "mimetype": "text/x-python",
   "name": "python",
   "nbconvert_exporter": "python",
   "pygments_lexer": "ipython3",
   "version": "3.8.3"
  }
 },
 "nbformat": 4,
 "nbformat_minor": 2
}