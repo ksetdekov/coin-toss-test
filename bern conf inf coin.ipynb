{
 "cells": [
  {
   "cell_type": "markdown",
   "metadata": {},
   "source": [
    "## Доверительные интервалы. Распределение Бернулли с неизвестной вероятностью успеха"
   ]
  },
  {
   "cell_type": "markdown",
   "metadata": {},
   "source": [
    "**Задача.** Пусть дана выборка из распределения Бернулли (можно считать, например, это это клики по рекламному баннеру в Интернете) длины $n=290$ и вероятностью успеха, равномерно распределенной на $[0.01,0.05]$. Оценить параметр успеха. Построить для него доверительные интервалы: (1) асимптотический, основанный на центральной предельной теореме, (2) доверительный интервал Уилсона. "
   ]
  },
  {
   "cell_type": "code",
   "execution_count": 1,
   "metadata": {},
   "outputs": [],
   "source": [
    "%matplotlib inline\n",
    "\n",
    "import matplotlib.pyplot as plt\n",
    "import numpy as np # для генерации случайных величин и работы с массивами\n",
    "import statsmodels.stats.proportion # для построения доверительных интервалов в модели Бернулли "
   ]
  },
  {
   "cell_type": "code",
   "execution_count": 2,
   "metadata": {},
   "outputs": [],
   "source": [
    "np.random.seed(123) # фиксируем seed"
   ]
  },
  {
   "cell_type": "code",
   "execution_count": 3,
   "metadata": {},
   "outputs": [],
   "source": [
    "# Фиксируем параметры задачи\n",
    "\n",
    "n = 290 # размер выборки \n",
    "alpha = 0.05 # параметр ошибки\n",
    "\n",
    "p = np.random.uniform(0.01,0.05) # неизвестный параметр успеха\n",
    "p = 1/3"
   ]
  },
  {
   "cell_type": "code",
   "execution_count": 4,
   "metadata": {},
   "outputs": [],
   "source": [
    "# Сгенерируем выборку из нужного распределения\n",
    "sample = np.random.binomial(1,p, size=n)\n",
    "sample = np.array([1,2,3,3,3,2,2,2,2,2,1,3,1,1,3,3,1,2])"
   ]
  },
  {
   "cell_type": "code",
   "execution_count": 5,
   "metadata": {},
   "outputs": [
    {
     "data": {
      "text/plain": [
       "array([1, 2, 3, 3, 3, 2, 2, 2, 2, 2, 1, 3, 1, 1, 3, 3, 1, 2])"
      ]
     },
     "execution_count": 5,
     "metadata": {},
     "output_type": "execute_result"
    }
   ],
   "source": [
    "sample"
   ]
  },
  {
   "cell_type": "code",
   "execution_count": 6,
   "metadata": {},
   "outputs": [
    {
     "data": {
      "text/plain": [
       "array([1, 1, 1, 1, 1])"
      ]
     },
     "execution_count": 6,
     "metadata": {},
     "output_type": "execute_result"
    }
   ],
   "source": [
    "sample[sample==1]"
   ]
  },
  {
   "cell_type": "code",
   "execution_count": 7,
   "metadata": {},
   "outputs": [
    {
     "name": "stdout",
     "output_type": "stream",
     "text": [
      "Истинное значение параметра:  0.3333333333333333\n",
      "Оценка вероятности успеха:  0.2777777777777778\n"
     ]
    }
   ],
   "source": [
    "print(\"Истинное значение параметра: \",p)\n",
    "print(\"Оценка вероятности успеха: \",len(sample[sample==1])/len(sample))"
   ]
  },
  {
   "cell_type": "markdown",
   "metadata": {},
   "source": [
    "Для того, чтобы построить доверительный интервал в модели Бернулли, можно воспользоваться методом proportion_confint  класса statsmodels.stats.proportion. Подробнее можно прочитать тут: https://www.statsmodels.org/stable/generated/statsmodels.stats.proportion.proportion_confint.html\n",
    "\n",
    "В целом, про доверительные интервалы в модели Бернулли можно почитать либо в английской Википедии: \n",
    "https://en.wikipedia.org/wiki/Binomial_proportion_confidence_interval  \n",
    "либо в этой статье:  \n",
    "http://medstatistic.ru/articles/doveritelnye-intervaly-dlya-chastot-i-doley.pdf"
   ]
  },
  {
   "cell_type": "code",
   "execution_count": 8,
   "metadata": {},
   "outputs": [
    {
     "name": "stdout",
     "output_type": "stream",
     "text": [
      "Асимптотический доверительный интервал на основе ЦПТ равен  (0.08918788749558314, 0.1659845262975203)\n"
     ]
    }
   ],
   "source": [
    "CI_Normal = statsmodels.stats.proportion.proportion_confint(sum(sample), n, alpha, method = 'normal')\n",
    "print(\"Асимптотический доверительный интервал на основе ЦПТ равен \", CI_Normal)"
   ]
  },
  {
   "cell_type": "code",
   "execution_count": 9,
   "metadata": {},
   "outputs": [
    {
     "name": "stdout",
     "output_type": "stream",
     "text": [
      "Доверительный интервал 1 Уилсона равен  (0.12499753379553993, 0.5087265656029747)\n"
     ]
    }
   ],
   "source": [
    "CI_Wilson = statsmodels.stats.proportion.proportion_confint(len(sample[sample==1]), len(sample), alpha, method = 'wilson')\n",
    "print(\"Доверительный интервал 1 Уилсона равен \", CI_Wilson)"
   ]
  },
  {
   "cell_type": "code",
   "execution_count": 10,
   "metadata": {},
   "outputs": [
    {
     "name": "stdout",
     "output_type": "stream",
     "text": [
      "Доверительный интервал 2 Уилсона равен  (0.20305246572163624, 0.6138095839776211)\n"
     ]
    }
   ],
   "source": [
    "CI_Wilson2 = statsmodels.stats.proportion.proportion_confint(len(sample[sample==2]), len(sample), alpha, method = 'wilson')\n",
    "print(\"Доверительный интервал 2 Уилсона равен \", CI_Wilson2)"
   ]
  },
  {
   "cell_type": "code",
   "execution_count": 11,
   "metadata": {},
   "outputs": [
    {
     "name": "stdout",
     "output_type": "stream",
     "text": [
      "Доверительный интервал 2 Уилсона равен  (0.1627877475083369, 0.562505327040549)\n"
     ]
    }
   ],
   "source": [
    "CI_Wilson = statsmodels.stats.proportion.proportion_confint(len(sample[sample==3]), len(sample), alpha, method = 'wilson')\n",
    "print(\"Доверительный интервал 2 Уилсона равен \", CI_Wilson)"
   ]
  },
  {
   "cell_type": "code",
   "execution_count": 12,
   "metadata": {},
   "outputs": [
    {
     "data": {
      "text/plain": [
       "34147"
      ]
     },
     "execution_count": 12,
     "metadata": {},
     "output_type": "execute_result"
    }
   ],
   "source": [
    "from statsmodels.stats.proportion import samplesize_confint_proportion\n",
    "sufficient_size = int(np.ceil(samplesize_confint_proportion(1/3, 0.005))) \n",
    "sufficient_size"
   ]
  },
  {
   "cell_type": "code",
   "execution_count": 13,
   "metadata": {},
   "outputs": [
    {
     "data": {
      "text/plain": [
       "0.996695588095955"
      ]
     },
     "execution_count": 13,
     "metadata": {},
     "output_type": "execute_result"
    }
   ],
   "source": [
    "from scipy.stats import chisquare, randint\n",
    "chisquare(sample)[1]"
   ]
  },
  {
   "cell_type": "code",
   "execution_count": 14,
   "metadata": {},
   "outputs": [],
   "source": [
    "\n",
    "chisquare(randint.rvs(1, 4, size=1300))[1]\n",
    "s2= randint.rvs(1, 4, size=1300)"
   ]
  },
  {
   "cell_type": "code",
   "execution_count": 15,
   "metadata": {},
   "outputs": [
    {
     "name": "stdout",
     "output_type": "stream",
     "text": [
      "Доверительный интервал 2 Уилсона равен  (0.33133634537874906, 0.38335289273117507)\n"
     ]
    }
   ],
   "source": [
    "CI_Wilson = statsmodels.stats.proportion.proportion_confint(len(s2[s2==3]), len(s2), alpha, method = 'wilson')\n",
    "print(\"Доверительный интервал 2 Уилсона равен \", CI_Wilson)"
   ]
  },
  {
   "cell_type": "code",
   "execution_count": 16,
   "metadata": {},
   "outputs": [
    {
     "data": {
      "text/plain": [
       "0.6225620374971963"
      ]
     },
     "execution_count": 16,
     "metadata": {},
     "output_type": "execute_result"
    }
   ],
   "source": [
    "from scipy import stats\n",
    "\n",
    "stats.binom_test(len(sample[sample==2]), len(sample), 1/3, alternative = 'two-sided')"
   ]
  },
  {
   "cell_type": "code",
   "execution_count": 17,
   "metadata": {},
   "outputs": [
    {
     "data": {
      "text/plain": [
       "0.8037322594985424"
      ]
     },
     "execution_count": 17,
     "metadata": {},
     "output_type": "execute_result"
    }
   ],
   "source": [
    "stats.binom_test(len(sample[sample==1]), len(sample), 1/3, alternative = 'two-sided')"
   ]
  },
  {
   "cell_type": "code",
   "execution_count": 18,
   "metadata": {},
   "outputs": [
    {
     "data": {
      "text/plain": [
       "1.0"
      ]
     },
     "execution_count": 18,
     "metadata": {},
     "output_type": "execute_result"
    }
   ],
   "source": [
    "stats.binom_test(len(sample[sample==3]), len(sample), 1/3, alternative = 'two-sided')"
   ]
  },
  {
   "cell_type": "code",
   "execution_count": 19,
   "metadata": {},
   "outputs": [
    {
     "data": {
      "text/plain": [
       "18"
      ]
     },
     "execution_count": 19,
     "metadata": {},
     "output_type": "execute_result"
    }
   ],
   "source": [
    "len(sample)"
   ]
  },
  {
   "cell_type": "code",
   "execution_count": 20,
   "metadata": {},
   "outputs": [
    {
     "data": {
      "image/png": "[encoded data removed]",
      "text/plain": [
       "<Figure size 432x288 with 1 Axes>"
      ]
     },
     "metadata": {
      "needs_background": "light"
     },
     "output_type": "display_data"
    }
   ],
   "source": [
    "\n",
    "n = len(sample)\n",
    "F_H0 = stats.binom(n, 1/3)\n",
    "\n",
    "x = [int(i) for i in np.linspace(0,n-1,1000)]\n",
    "\n",
    "plt.plot(x, F_H0.pmf(x))\n",
    "plt.xlim(-0.5, n) \n",
    "plt.axvline(x=n/3, c='red')\n",
    "plt.axvline(x=CI_Wilson2[0]*n, c='black')\n",
    "plt.axvline(x=CI_Wilson2[1]*n, c='black')\n",
    "\n",
    "plt.show()"
   ]
  },
  {
   "cell_type": "code",
   "execution_count": null,
   "metadata": {},
   "outputs": [],
   "source": []
  }
 ],
 "metadata": {
  "kernelspec": {
   "display_name": "Python 3",
   "language": "python",
   "name": "python3"
  },
  "language_info": {
   "codemirror_mode": {
    "name": "ipython",
    "version": 3
   },
   "file_extension": ".py",
   "mimetype": "text/x-python",
   "name": "python",
   "nbconvert_exporter": "python",
   "pygments_lexer": "ipython3",
   "version": "3.8.3"
  }
 },
 "nbformat": 4,
 "nbformat_minor": 2
}
