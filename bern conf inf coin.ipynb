{
 "cells": [
  {
   "cell_type": "markdown",
   "source": [
    "## Доверительные интервалы. Распределение Бернулли с неизвестной вероятностью успеха"
   ],
   "metadata": {}
  },
  {
   "cell_type": "markdown",
   "source": [
    "**Задача.** Пусть дана выборка из распределения Бернулли (можно считать, например, это это клики по рекламному баннеру в Интернете) длины $n=290$ и вероятностью успеха, равномерно распределенной на $[0.01,0.05]$. Оценить параметр успеха. Построить для него доверительные интервалы: (1) асимптотический, основанный на центральной предельной теореме, (2) доверительный интервал Уилсона. "
   ],
   "metadata": {}
  },
  {
   "cell_type": "code",
   "execution_count": 1,
   "source": [
    "%matplotlib inline\r\n",
    "\r\n",
    "import matplotlib.pyplot as plt\r\n",
    "import numpy as np # для генерации случайных величин и работы с массивами\r\n",
    "import statsmodels.stats.proportion # для построения доверительных интервалов в модели Бернулли \r\n",
    "import datetime\r\n",
    "import os\r\n",
    "import sqlite3\r\n",
    "from scipy import stats\r\n",
    "import pandas as pd\r\n",
    "import sqlite3\r\n",
    "from scipy.stats import chisquare, randint\r\n",
    "\r\n"
   ],
   "outputs": [],
   "metadata": {}
  },
  {
   "cell_type": "code",
   "execution_count": 2,
   "source": [
    "np.random.seed(123) # фиксируем seed"
   ],
   "outputs": [],
   "metadata": {}
  },
  {
   "cell_type": "code",
   "execution_count": 3,
   "source": [
    "# Фиксируем параметры задачи\r\n",
    "\r\n",
    "n = 290 # размер выборки \r\n",
    "alpha = 0.05 # параметр ошибки\r\n",
    "\r\n",
    "p = np.random.uniform(0.01,0.05) # неизвестный параметр успеха\r\n",
    "p = 1/3"
   ],
   "outputs": [],
   "metadata": {}
  },
  {
   "cell_type": "code",
   "execution_count": 4,
   "source": [
    "if not os.path.exists('tosses.db'):\r\n",
    "    conn = sqlite3.connect('tosses.db')\r\n",
    "    cur = conn.cursor()\r\n",
    "    # Make some fresh tables using executescript()\r\n",
    "    cur.executescript('''CREATE TABLE \"timelog\" (\r\n",
    "    \"stamp\" TEXT,\r\n",
    "    \"roll\"    INTEGER,\r\n",
    "    PRIMARY KEY(\"stamp\")\r\n",
    "    );''')\r\n",
    "    conn.commit()\r\n",
    "    cur.close()\r\n",
    "\r\n",
    "\r\n",
    "def add_roll(result, cur_time):\r\n",
    "    try:\r\n",
    "        sqlite_con = sqlite3.connect('tosses.db')\r\n",
    "        cursor = sqlite_con.cursor()\r\n",
    "        sqlite_insert = \"\"\"INSERT INTO 'timelog'\r\n",
    "                ('stamp', 'roll')\r\n",
    "                VALUES (?, ?);\"\"\"\r\n",
    "        data_tuple = (cur_time, result)\r\n",
    "        cursor.execute(sqlite_insert, data_tuple)\r\n",
    "        sqlite_con.commit()\r\n",
    "        sqlite_con.close()\r\n",
    "    except sqlite3.Error as error:\r\n",
    "        print(\"Error while working with sqlite\", error)\r\n",
    "\r\n",
    "\r\n",
    "def pvalue_binom(data):\r\n",
    "    res = []\r\n",
    "    n = len(np.unique(data))\r\n",
    "    for i in np.unique(data):\r\n",
    "        res.append(stats.binom_test(len(data[data==i]), len(data), 1/n, alternative = 'two-sided'))\r\n",
    "    return(res)\r\n",
    "\r\n",
    "def ci_wilson_print(data, alpha=0.05):\r\n",
    "    n = len(np.unique(data))\r\n",
    "    data_size = len(data)\r\n",
    "    for i in np.unique(data):\r\n",
    "        CI_Wilsoni = statsmodels.stats.proportion.proportion_confint(len(data[data==i]), data_size, alpha, method = 'wilson')\r\n",
    "        print(f'Доверительный интервал {i} Уилсона равен {CI_Wilsoni}')\r\n",
    "        \r\n",
    "    \r\n"
   ],
   "outputs": [],
   "metadata": {}
  },
  {
   "cell_type": "code",
   "execution_count": 30,
   "source": [
    "statsmodels.stats.proportion.samplesize_confint_proportion(1/3, 0.05, alpha=0.01, method='normal')"
   ],
   "outputs": [
    {
     "output_type": "execute_result",
     "data": {
      "text/plain": [
       "589.7685867574414"
      ]
     },
     "metadata": {},
     "execution_count": 30
    }
   ],
   "metadata": {}
  },
  {
   "cell_type": "code",
   "execution_count": 31,
   "source": [
    "new_roll = ''\r\n",
    "con = sqlite3.connect(\"tosses.db\")\r\n",
    "\r\n",
    "\r\n",
    "# Start a loop that will run until the user enters 'quit'.\r\n",
    "while new_roll != 'quit':\r\n",
    "    # Ask the user for a name.\r\n",
    "    new_roll = input('what did it roll? (type quit to exit)')\r\n",
    "\r\n",
    "    # Add the new roll \r\n",
    "    if new_roll != 'quit':\r\n",
    "        try:\r\n",
    "            roll_value = int(new_roll)\r\n",
    "            print(f'заношу {roll_value}')\r\n",
    "            add_roll(roll_value, datetime.datetime.now())\r\n",
    "\r\n",
    "        except ValueError:\r\n",
    "            print(f'введено \"{new_roll}\", нужно вводить целове число')\r\n",
    "    \r\n",
    "    df = pd.read_sql_query(\"SELECT * from timelog\", con)\r\n",
    "    sample = df.roll.values\r\n",
    "    ci_wilson_print(sample, alpha=alpha)\r\n",
    "    print(\"PV Хиквадрат теста\", chisquare(np.unique(sample, return_counts=True)[1])[1])\r\n",
    "    print(f'PV p каждое значение равно 1/n :{pvalue_binom(sample)}')\r\n",
    "\r\n",
    "    \r\n",
    "\r\n",
    "\r\n",
    "con.close()\r\n",
    "\r\n",
    "CI_Wilson2 = statsmodels.stats.proportion.proportion_confint(len(sample[sample==2]), len(sample), alpha, method = 'wilson')\r\n",
    "print(\"Доверительный интервал 2 Уилсона равен \", CI_Wilson2)\r\n",
    "n = len(sample)\r\n",
    "F_H0 = stats.binom(n, 1/len(np.unique(sample)))\r\n",
    "\r\n",
    "x = [int(i) for i in np.linspace(0,n-1,1000)]\r\n",
    "\r\n",
    "plt.plot(x, F_H0.pmf(x))\r\n",
    "plt.xlim(-0.5, n) \r\n",
    "plt.axvline(x=n/len(np.unique(sample)), c='red')\r\n",
    "plt.axvline(x=CI_Wilson2[0]*n, c='black')\r\n",
    "plt.axvline(x=CI_Wilson2[1]*n, c='black')\r\n",
    "plt.show()\r\n",
    "\r\n"
   ],
   "outputs": [
    {
     "output_type": "stream",
     "name": "stdout",
     "text": [
      "заношу 3\n",
      "Доверительный интервал 1 Уилсона равен (0.24544004852680174, 0.382794579355938)\n",
      "Доверительный интервал 2 Уилсона равен (0.26161042431288895, 0.40094100714990544)\n",
      "Доверительный интервал 3 Уилсона равен (0.2942697188145978, 0.4369153198083063)\n",
      "PV Хиквадрат теста 0.6918258252705172\n",
      "PV p каждое значение равно 1/n :[0.5703310038800108, 0.9353933059031497, 0.41809167648086515]\n",
      "заношу 2\n",
      "Доверительный интервал 1 Уилсона равен (0.2439574216783496, 0.38070447294742044)\n",
      "Доверительный интервал 2 Уилсона равен (0.26540753698010844, 0.4047498855698106)\n",
      "Доверительный интервал 3 Уилсона равен (0.2924818361985506, 0.43454499625655474)\n",
      "PV Хиквадрат теста 0.7014180812626853\n",
      "PV p каждое значение равно 1/n :[0.5181728667657106, 1.0, 0.46690050045286613]\n",
      "заношу 1\n",
      "Доверительный интервал 1 Уилсона равен (0.24780410436928613, 0.3846350282104455)\n",
      "Доверительный интервал 2 Уилсона равен (0.26380998093103547, 0.4025578471028747)\n",
      "Доверительный интервал 3 Уилсона равен (0.2907156684023142, 0.4321999853885603)\n",
      "PV Хиквадрат теста 0.7533412291851227\n",
      "PV p каждое значение равно 1/n :[0.573615161904227, 1.0, 0.5188613386195233]\n",
      "заношу 1\n",
      "Доверительный интервал 1 Уилсона равен (0.2516150334722562, 0.3885138744640705)\n",
      "Доверительный интервал 2 Уилсона равен (0.26223162822783974, 0.4003892229624665)\n",
      "Доверительный интервал 3 Уилсона равен (0.2889708196012866, 0.4298798897239687)\n",
      "PV Хиквадрат теста 0.7992048916091277\n",
      "PV p каждое значение равно 1/n :[0.6877960956561806, 0.9359507982826627, 0.5207435969203252]\n",
      "заношу 2\n",
      "Доверительный интервал 1 Уилсона равен (0.2501205269001969, 0.3864290716737623)\n",
      "Доверительный интервал 2 Уилсона равен (0.26596499996138484, 0.40413386643651655)\n",
      "Доверительный интервал 3 Уилсона равен (0.2872469036077769, 0.4275843198887142)\n",
      "PV Хиквадрат теста 0.8094270952089964\n",
      "PV p каждое значение равно 1/n :[0.6309603588814869, 1.0, 0.5748238632916143]\n",
      "заношу 2\n",
      "Доверительный интервал 1 Уилсона равен (0.24864374030221054, 0.3843663540731724)\n",
      "Доверительный интервал 2 Уилсона равен (0.26966344287752364, 0.40783027642205527)\n",
      "Доверительный интервал 3 Уилсона равен (0.28554354357682854, 0.4253128944158975)\n",
      "PV Хиквадрат теста 0.8104000432108458\n",
      "PV p каждое значение равно 1/n :[0.5768822571247597, 1.0, 0.6314822995333391]\n",
      "заношу 1\n",
      "Доверительный интервал 1 Уилсона равен (0.2523907345044687, 0.38817841139891596)\n",
      "Доверительный интервал 2 Уилсона равен (0.26807682355661505, 0.4056705550326109)\n",
      "Доверительный интервал 3 Уилсона равен (0.28386037172286527, 0.4230652395522021)\n",
      "PV Хиквадрат теста 0.8585225151129876\n",
      "PV p каждое значение равно 1/n :[0.6903131039662866, 1.0, 0.6329615327142948]\n",
      "заношу 1\n",
      "Доверительный интервал 1 Уилсона равен (0.25610345447424654, 0.39194160403406864)\n",
      "Доверительный интервал 2 Уилсона равен (0.2665088508379506, 0.4035333915135948)\n",
      "Доверительный интервал 3 Уилсона равен (0.2821970290466967, 0.4208409890696943)\n",
      "PV Хиквадрат теста 0.8987579062604893\n",
      "PV p каждое значение равно 1/n :[0.7508579240958972, 1.0, 0.6911586277049354]\n",
      "заношу 1\n",
      "Доверительный интервал 1 Уилсона равен (0.25978226694602785, 0.3956569293591066)\n",
      "Доверительный интервал 2 Уилсона равен (0.2649591961796425, 0.4014184383380275)\n",
      "Доверительный интервал 3 Уилсона равен (0.28055316507243466, 0.4186397840828415)\n",
      "PV Хиквадрат теста 0.9299488463019361\n",
      "PV p каждое значение равно 1/n :[0.8126200353494357, 1.0, 0.7512052419357457]\n",
      "заношу 2\n",
      "Доверительный интервал 1 Уилсона равен (0.25828143096508205, 0.39359252385149146)\n",
      "Доверительный интервал 2 Уилсона равен (0.26858416149275777, 0.40504767114777984)\n",
      "Доверительный интервал 3 Уилсона равен (0.2789284375939025, 0.4164612728705992)\n",
      "PV Хиквадрат теста 0.9355069850316178\n",
      "PV p каждое значение равно 1/n :[0.8126243014506731, 1.0, 0.7522163079290104]\n",
      "заношу 1\n",
      "Доверительный интервал 1 Уилсона равен (0.2619135652535882, 0.3972538076834904)\n",
      "Доверительный интервал 2 Уилсона равен (0.2670396364107048, 0.40294781992519674)\n",
      "Доверительный интервал 3 Уилсона равен (0.27732251243013173, 0.4143051107034156)\n",
      "PV Хиквадрат теста 0.9620642590969781\n",
      "PV p каждое значение равно 1/n :[0.8749093795167954, 1.0, 0.8131362335991621]\n",
      "заношу 1\n",
      "Доверительный интервал 1 Уилсона равен (0.2655128533878027, 0.40086944691570703)\n",
      "Доверительный интервал 2 Уилсона равен (0.2655128533878027, 0.40086944691570703)\n",
      "Доверительный интервал 3 Уилсона равен (0.2757350631895662, 0.4121709596750075)\n",
      "PV Хиквадрат теста 0.9782617350728589\n",
      "PV p каждое значение равно 1/n :[1.0, 1.0, 0.8750809715887884]\n",
      "заношу 1\n",
      "Доверительный интервал 1 Уилсона равен (0.26907965393744354, 0.40444034325686345)\n",
      "Доверительный интервал 2 Уилсона равен (0.2640035068701221, 0.398812227937113)\n",
      "Доверительный интервал 3 Уилсона равен (0.27416577104261053, 0.41005848853876836)\n",
      "PV Хиквадрат теста 0.9837401985812029\n",
      "PV p каждое значение равно 1/n :[1.0, 0.9375404857943943, 0.875588772517289]\n",
      "заношу 3\n",
      "Доверительный интервал 1 Уилсона равен (0.2675578731629451, 0.40237654712292636)\n",
      "Доверительный интервал 2 Уилсона равен (0.2625112983224267, 0.396775845198473)\n",
      "Доверительный интервал 3 Уилсона равен (0.27768053580598123, 0.41354843800983415)\n",
      "PV Хиквадрат теста 0.9626710847167363\n",
      "PV p каждое значение равно 1/n :[1.0, 0.8759218462445844, 0.8146362804220717]\n",
      "заношу 1\n",
      "Доверительный интервал 1 Уилсона равен (0.2710804192118883, 0.4058972933045152)\n",
      "Доверительный интервал 2 Уилсона равен (0.26103593602639097, 0.3947599871468259)\n",
      "Доверительный интервал 3 Уилсона равен (0.2761172213823917, 0.41145138580560514)\n",
      "PV Хиквадрат теста 0.9628690691619428\n",
      "PV p каждое значение равно 1/n :[1.0, 0.81560906718116, 0.8760892931457392]\n",
      "заношу 2\n",
      "Доверительный интервал 1 Уилсона равен (0.2695637577416636, 0.40384793860144547)\n",
      "Доверительный интервал 2 Уилсона равен (0.26456559909300326, 0.39831099068052866)\n",
      "Доверительный интервал 3 Уилсона равен (0.2745714945902802, 0.4093753083224059)\n",
      "PV Хиквадрат теста 0.9840003440771302\n",
      "PV p каждое значение равно 1/n :[1.0, 0.9380446465728693, 0.8765849359731557]\n",
      "заношу 3\n",
      "Доверительный интервал 1 Уилсона равен (0.26806404939032036, 0.40181900228351997)\n",
      "Доверительный интервал 2 Уилсона равен (0.2630945298963469, 0.3963086186560281)\n",
      "Доверительный интервал 3 Уилсона равен (0.2780314474205599, 0.41281141049621123)\n",
      "PV Хиквадрат теста 0.9632588045263542\n",
      "PV p каждое значение равно 1/n :[1.0, 0.876910119627123, 0.8161007763353432]\n",
      "заношу 2\n",
      "Доверительный интервал 1 Уилсона равен (0.26658100999497425, 0.39981018410130287)\n",
      "Доверительный интервал 2 Уилсона равен (0.26658100999497425, 0.39981018410130287)\n",
      "Доверительный интервал 3 Уилсона равен (0.27649152967182444, 0.41075021479343543)\n",
      "PV Хиквадрат теста 0.9789481542249698\n",
      "PV p каждое значение равно 1/n :[1.0, 1.0, 0.8770735856037137]\n",
      "заношу 1\n",
      "Доверительный интервал 1 Уилсона равен (0.2700369053748061, 0.4032698597509545)\n",
      "Доверительный интервал 2 Уилсона равен (0.26511436174692476, 0.3978211895733044)\n",
      "Доверительный интервал 3 Уилсона равен (0.2749686565911632, 0.4087093223401288)\n",
      "PV Хиквадрат теста 0.9842522965387105\n",
      "PV p каждое значение равно 1/n :[1.0, 0.9385367928018582, 0.877557547865117]\n",
      "заношу 3\n",
      "Доверительный интервал 1 Уилсона равен (0.2685586271505559, 0.4012746459306128)\n",
      "Доверительный интервал 2 Уилсона равен (0.26366383301378093, 0.39585172985117434)\n",
      "Доверительный интервал 3 Уилсона равен (0.2783754827394286, 0.41209321077416705)\n",
      "PV Хиквадрат теста 0.9638283067520611\n",
      "PV p каждое значение равно 1/n :[1.0, 0.8778751480991623, 0.8175311036305126]\n",
      "заношу 2\n",
      "Доверительный интервал 1 Уилсона равен (0.2670965176110982, 0.3992989179731875)\n",
      "Доверительный интервал 2 Уилсона равен (0.2670965176110982, 0.3992989179731875)\n",
      "Доверительный интервал 3 Уилсона равен (0.2768582572471862, 0.41006668999345114)\n",
      "PV Хиквадрат теста 0.9792753610029029\n",
      "PV p каждое значение равно 1/n :[1.0, 1.0, 0.878034788428444]\n",
      "заношу 3\n",
      "Доверительный интервал 1 Уилсона равен (0.2656503115659986, 0.3973423948944482)\n",
      "Доверительный интервал 2 Уилсона равен (0.2656503115659986, 0.3973423948944482)\n",
      "Доверительный интервал 3 Уилсона равен (0.2802243678379154, 0.41340536530794536)\n",
      "PV Хиквадрат теста 0.9542066659691884\n",
      "PV p каждое значение равно 1/n :[0.9390173942142219, 0.9390173942142219, 0.7598150797763473]\n",
      "заношу 3\n",
      "Доверительный интервал 1 Уилсона равен (0.26421974962732864, 0.3954048010064313)\n",
      "Доверительный интервал 2 Уилсона равен (0.26421974962732864, 0.3954048010064313)\n",
      "Доверительный интервал 3 Уилсона равен (0.28356120144547614, 0.4167051938887304)\n",
      "PV Хиквадрат теста 0.9204417561971627\n",
      "PV p каждое значение равно 1/n :[0.8788178288446167, 0.8788178288446167, 0.7027970229119394]\n",
      "заношу 2\n",
      "Доверительный интервал 1 Уилсона равен (0.26280457805072865, 0.3934858657958812)\n",
      "Доверительный интервал 2 Уилсона равен (0.2676002722090879, 0.3987992762302687)\n",
      "Доверительный интервал 3 Уилсона равен (0.2820391618045741, 0.41468770041302283)\n",
      "PV Хиквадрат теста 0.9351855601988306\n",
      "PV p каждое значение равно 1/n :[0.8198359835180218, 1.0, 0.7607086750379501]\n",
      "заношу 3\n",
      "Доверительный интервал 1 Уилсона равен (0.2614045485817075, 0.39158532380591693)\n",
      "Доверительный интервал 2 Уилсона равен (0.26617393772619763, 0.39687419922990136)\n",
      "Доверительный интервал 3 Уилсона равен (0.28533676137845265, 0.417944433851545)\n",
      "PV Хиквадрат теста 0.8979038320326345\n",
      "PV p каждое значение равно 1/n :[0.8198394830036095, 0.9394868952274273, 0.6490689160375129]\n",
      "заношу 3\n",
      "Доверительный интервал 1 Уилсона равен (0.2600194183069776, 0.3897029145208326)\n",
      "Доверительный интервал 2 Уилсона равен (0.26476279273320225, 0.3949674734423847)\n",
      "Доверительный интервал 3 Уилсона равен (0.2886059800599685, 0.4211639528545028)\n",
      "PV Хиквадрат теста 0.8537103893017488\n",
      "PV p каждое значение равно 1/n :[0.7621806701023033, 0.8797390113032384, 0.5960539134491483]\n",
      "заношу 2\n",
      "Доверительный интервал 1 Уилсона равен (0.25864894951063255, 0.3878383822539365)\n",
      "Доверительный интервал 2 Уилсона равен (0.26809271355071973, 0.39831082487500036)\n",
      "Доверительный интервал 3 Уилсона равен (0.2870800278548461, 0.419155923893176)\n",
      "PV Хиквадрат теста 0.8675067556527919\n",
      "PV p каждое значение равно 1/n :[0.7063623265601924, 1.0, 0.650290994802065]\n",
      "заношу 2\n",
      "Доверительный интервал 1 Уилсона равен (0.25729290953498163, 0.38599147603834494)\n",
      "Доверительный интервал 2 Уилсона равен (0.27139460397375303, 0.4016160828017963)\n",
      "Доверительный интервал 3 Уилсона равен (0.28557020747932144, 0.41716678049845074)\n",
      "PV Хиквадрат теста 0.8725252928694238\n",
      "PV p каждое значение равно 1/n :[0.7063784316072284, 1.0, 0.651553129443726]\n",
      "заношу 1\n",
      "Доверительный интервал 1 Уилсона равен (0.2606180947965956, 0.3893548426256208)\n",
      "Доверительный интервал 2 Уилсона равен (0.2699770331564998, 0.39971573877714106)\n",
      "Доверительный интервал 3 Уилсона равен (0.2840762629649038, 0.4151962607358736)\n",
      "PV Хиквадрат теста 0.9089389153163496\n",
      "PV p каждое значение равно 1/n :[0.7639218142183737, 1.0, 0.7070976729134937]\n",
      "заношу 1\n",
      "Доверительный интервал 1 Уилсона равен (0.2639157153923429, 0.3926801488397004)\n",
      "Доверительный интервал 2 Уилсона равен (0.26857425870603957, 0.39783315226223115)\n",
      "Доверительный интервал 3 Уилсона равен (0.2825979437674894, 0.4132441074094632)\n",
      "PV Хиквадрат теста 0.9370674633774034\n",
      "PV p каждое значение равно 1/n :[0.8224976046754697, 1.0, 0.7642164341063613]\n",
      "заношу 2\n",
      "Доверительный интервал 1 Уилсона равен (0.2625522777498195, 0.39083820087321586)\n",
      "Доверительный интервал 2 Уилсона равен (0.27182781905205444, 0.4010899565499647)\n",
      "Доверительный интервал 3 Уилсона равен (0.2811350046232605, 0.41131006795774255)\n",
      "PV Хиквадрат теста 0.9420456992885599\n",
      "PV p каждое значение равно 1/n :[0.8225008511756119, 1.0, 0.7650767566442851]\n",
      "заношу 2\n",
      "Доверительный интервал 1 Уилсона равен (0.2612029129825516, 0.3890133242492382)\n",
      "Доверительный интервал 2 Уилсона равен (0.2750544100270411, 0.40431047410209964)\n",
      "Доверительный интервал 3 Уилсона равен (0.2796872054091998, 0.40939389435239126)\n",
      "PV Хиквадрат теста 0.9376707206930406\n",
      "PV p каждое значение равно 1/n :[0.7656252740162908, 0.9405414320456584, 0.8229358821947897]\n",
      "заношу 3\n",
      "Доверительный интервал 1 Уилсона равен (0.2598674032912186, 0.38720528505564733)\n",
      "Доверительный интервал 2 Уилсона равен (0.2736459616120787, 0.40243445098025027)\n",
      "Доверительный интервал 3 Уилсона равен (0.2828702712025889, 0.4125486242200489)\n",
      "PV Хиквадрат теста 0.9106505369415124\n",
      "PV p каждое значение равно 1/n :[0.7105131993064402, 1.0, 0.7659134538789886]\n",
      "Доверительный интервал 1 Уилсона равен (0.2598674032912186, 0.38720528505564733)\n",
      "Доверительный интервал 2 Уилсона равен (0.2736459616120787, 0.40243445098025027)\n",
      "Доверительный интервал 3 Уилсона равен (0.2828702712025889, 0.4125486242200489)\n",
      "PV Хиквадрат теста 0.9106505369415124\n",
      "PV p каждое значение равно 1/n :[0.7105131993064402, 1.0, 0.7659134538789886]\n",
      "Доверительный интервал 2 Уилсона равен  (0.2736459616120787, 0.40243445098025027)\n"
     ]
    },
    {
     "output_type": "display_data",
     "data": {
      "text/plain": [
       "<Figure size 432x288 with 1 Axes>"
      ],
      "image/png": "[encoded data removed]"
     },
     "metadata": {
      "needs_background": "light"
     }
    }
   ],
   "metadata": {}
  },
  {
   "cell_type": "code",
   "execution_count": 32,
   "source": [
    "# Read sqlite query results into a pandas DataFrame\r\n",
    "con = sqlite3.connect(\"tosses.db\")\r\n",
    "df = pd.read_sql_query(\"SELECT * from timelog\", con)\r\n",
    "\r\n",
    "# Verify that result of SQL query is stored in the dataframe\r\n",
    "print(df.head())\r\n",
    "\r\n",
    "con.close()"
   ],
   "outputs": [
    {
     "output_type": "stream",
     "name": "stdout",
     "text": [
      "                        stamp  roll\n",
      "0  2021-06-30 16:42:09.469770     1\n",
      "1  2021-06-30 16:42:13.720220     2\n",
      "2  2021-06-30 16:42:20.903245     3\n",
      "3  2021-06-30 16:42:24.637841     3\n",
      "4  2021-06-30 16:42:26.211745     3\n"
     ]
    }
   ],
   "metadata": {}
  },
  {
   "cell_type": "code",
   "execution_count": 34,
   "source": [
    "sample = df.roll.values\r\n",
    "sample"
   ],
   "outputs": [
    {
     "output_type": "execute_result",
     "data": {
      "text/plain": [
       "array([1, 2, 3, 3, 3, 2, 2, 2, 2, 2, 1, 3, 1, 1, 3, 3, 1, 2, 1, 3, 3, 2,\n",
       "       1, 2, 2, 2, 2, 2, 1, 3, 2, 3, 2, 3, 1, 2, 3, 3, 2, 1, 1, 3, 3, 3,\n",
       "       2, 1, 2, 1, 2, 1, 3, 1, 3, 1, 3, 2, 1, 2, 1, 2, 1, 3, 2, 1, 2, 2,\n",
       "       3, 1, 1, 1, 1, 2, 2, 2, 2, 2, 1, 2, 1, 3, 1, 1, 1, 3, 2, 2, 3, 3,\n",
       "       1, 2, 1, 2, 3, 3, 3, 3, 3, 3, 2, 1, 1, 3, 3, 2, 2, 1, 3, 3, 3, 2,\n",
       "       1, 3, 3, 3, 1, 2, 2, 3, 1, 3, 3, 2, 3, 1, 3, 1, 1, 1, 3, 3, 2, 2,\n",
       "       3, 1, 1, 1, 3, 3, 2, 2, 3, 1, 1, 2, 2, 1, 3, 2, 3, 1, 3, 1, 1, 2,\n",
       "       3, 2, 1, 2, 3, 3, 2, 3, 3, 3, 3, 1, 2, 3, 2, 1, 3, 2, 1, 1, 2, 2,\n",
       "       1, 1, 1, 2, 1, 1, 1, 3, 1, 2, 3, 2, 1, 3, 2, 3, 3, 2, 3, 3, 2, 2,\n",
       "       1, 1, 2, 2, 3], dtype=int64)"
      ]
     },
     "metadata": {},
     "execution_count": 34
    }
   ],
   "metadata": {}
  },
  {
   "cell_type": "code",
   "execution_count": 35,
   "source": [
    "print(\"Истинное значение параметра: \",p)\r\n",
    "print(\"Оценка вероятности успеха: \",len(sample[sample==2])/len(sample))"
   ],
   "outputs": [
    {
     "output_type": "stream",
     "name": "stdout",
     "text": [
      "Истинное значение параметра:  0.3333333333333333\n",
      "Оценка вероятности успеха:  0.33497536945812806\n"
     ]
    }
   ],
   "metadata": {}
  },
  {
   "cell_type": "markdown",
   "source": [
    "Для того, чтобы построить доверительный интервал в модели Бернулли, можно воспользоваться методом proportion_confint  класса statsmodels.stats.proportion. Подробнее можно прочитать тут: https://www.statsmodels.org/stable/generated/statsmodels.stats.proportion.proportion_confint.html\n",
    "\n",
    "В целом, про доверительные интервалы в модели Бернулли можно почитать либо в английской Википедии: \n",
    "https://en.wikipedia.org/wiki/Binomial_proportion_confidence_interval  \n",
    "либо в этой статье:  \n",
    "http://medstatistic.ru/articles/doveritelnye-intervaly-dlya-chastot-i-doley.pdf"
   ],
   "metadata": {}
  },
  {
   "cell_type": "code",
   "execution_count": 36,
   "source": [
    "sum(sample)"
   ],
   "outputs": [
    {
     "output_type": "execute_result",
     "data": {
      "text/plain": [
       "411"
      ]
     },
     "metadata": {},
     "execution_count": 36
    }
   ],
   "metadata": {}
  },
  {
   "cell_type": "code",
   "execution_count": 37,
   "source": [
    "CI_Normal = statsmodels.stats.proportion.proportion_confint(len(sample[sample==1]), len(sample), alpha, method = 'normal')\r\n",
    "print(\"Асимптотический доверительный интервал на основе ЦПТ равен \", CI_Normal)"
   ],
   "outputs": [
    {
     "output_type": "stream",
     "name": "stdout",
     "text": [
      "Асимптотический доверительный интервал на основе ЦПТ равен  (0.2560169641033083, 0.3843771245666424)\n"
     ]
    }
   ],
   "metadata": {}
  },
  {
   "cell_type": "code",
   "execution_count": 38,
   "source": [
    "CI_Wilson = statsmodels.stats.proportion.proportion_confint(len(sample[sample==1]), len(sample), alpha, method = 'wilson')\r\n",
    "print(\"Доверительный интервал 1 Уилсона равен \", CI_Wilson)"
   ],
   "outputs": [
    {
     "output_type": "stream",
     "name": "stdout",
     "text": [
      "Доверительный интервал 1 Уилсона равен  (0.2598674032912186, 0.38720528505564733)\n"
     ]
    }
   ],
   "metadata": {}
  },
  {
   "cell_type": "code",
   "execution_count": 39,
   "source": [
    "CI_Wilson2 = statsmodels.stats.proportion.proportion_confint(len(sample[sample==2]), len(sample), alpha, method = 'wilson')\r\n",
    "print(\"Доверительный интервал 2 Уилсона равен \", CI_Wilson2)"
   ],
   "outputs": [
    {
     "output_type": "stream",
     "name": "stdout",
     "text": [
      "Доверительный интервал 2 Уилсона равен  (0.2736459616120787, 0.40243445098025027)\n"
     ]
    }
   ],
   "metadata": {}
  },
  {
   "cell_type": "code",
   "execution_count": 40,
   "source": [
    "CI_Wilson = statsmodels.stats.proportion.proportion_confint(len(sample[sample==3]), len(sample), alpha, method = 'wilson')\r\n",
    "print(\"Доверительный интервал 2 Уилсона равен \", CI_Wilson)"
   ],
   "outputs": [
    {
     "output_type": "stream",
     "name": "stdout",
     "text": [
      "Доверительный интервал 2 Уилсона равен  (0.2828702712025889, 0.4125486242200489)\n"
     ]
    }
   ],
   "metadata": {}
  },
  {
   "cell_type": "code",
   "execution_count": 41,
   "source": [
    "from statsmodels.stats.proportion import samplesize_confint_proportion\r\n",
    "sufficient_size = int(np.ceil(samplesize_confint_proportion(1/3, 0.005))) \r\n",
    "sufficient_size"
   ],
   "outputs": [
    {
     "output_type": "execute_result",
     "data": {
      "text/plain": [
       "34147"
      ]
     },
     "metadata": {},
     "execution_count": 41
    }
   ],
   "metadata": {}
  },
  {
   "cell_type": "code",
   "execution_count": 42,
   "source": [
    "np.unique(sample, return_counts=True)[1]"
   ],
   "outputs": [
    {
     "output_type": "execute_result",
     "data": {
      "text/plain": [
       "array([65, 68, 70], dtype=int64)"
      ]
     },
     "metadata": {},
     "execution_count": 42
    }
   ],
   "metadata": {}
  },
  {
   "cell_type": "code",
   "execution_count": 43,
   "source": [
    "chisquare(np.unique(sample, return_counts=True)[1])[1]"
   ],
   "outputs": [
    {
     "output_type": "execute_result",
     "data": {
      "text/plain": [
       "0.9106505369415124"
      ]
     },
     "metadata": {},
     "execution_count": 43
    }
   ],
   "metadata": {}
  },
  {
   "cell_type": "code",
   "execution_count": 44,
   "source": [
    "\r\n",
    "stats.binom_test(len(sample[sample==1]), len(sample), 1/3, alternative = 'two-sided')"
   ],
   "outputs": [
    {
     "output_type": "execute_result",
     "data": {
      "text/plain": [
       "0.7105131993064402"
      ]
     },
     "metadata": {},
     "execution_count": 44
    }
   ],
   "metadata": {}
  },
  {
   "cell_type": "code",
   "execution_count": 45,
   "source": [
    "stats.binom_test(len(sample[sample==2]), len(sample), 1/3, alternative = 'two-sided')"
   ],
   "outputs": [
    {
     "output_type": "execute_result",
     "data": {
      "text/plain": [
       "1.0"
      ]
     },
     "metadata": {},
     "execution_count": 45
    }
   ],
   "metadata": {}
  },
  {
   "cell_type": "code",
   "execution_count": 46,
   "source": [
    "stats.binom_test(len(sample[sample==3]), len(sample), 1/3, alternative = 'two-sided')"
   ],
   "outputs": [
    {
     "output_type": "execute_result",
     "data": {
      "text/plain": [
       "0.7659134538789886"
      ]
     },
     "metadata": {},
     "execution_count": 46
    }
   ],
   "metadata": {}
  },
  {
   "cell_type": "code",
   "execution_count": 47,
   "source": [
    "len(sample)"
   ],
   "outputs": [
    {
     "output_type": "execute_result",
     "data": {
      "text/plain": [
       "203"
      ]
     },
     "metadata": {},
     "execution_count": 47
    }
   ],
   "metadata": {}
  },
  {
   "cell_type": "code",
   "execution_count": 48,
   "source": [
    "\r\n",
    "n = len(sample)\r\n",
    "F_H0 = stats.binom(n, 1/3)\r\n",
    "\r\n",
    "x = [int(i) for i in np.linspace(0,n-1,1000)]\r\n",
    "\r\n",
    "plt.plot(x, F_H0.pmf(x))\r\n",
    "plt.xlim(-0.5, n) \r\n",
    "plt.axvline(x=n/3, c='red')\r\n",
    "plt.axvline(x=CI_Wilson2[0]*n, c='black')\r\n",
    "plt.axvline(x=CI_Wilson2[1]*n, c='black')\r\n",
    "\r\n",
    "plt.show()"
   ],
   "outputs": [
    {
     "output_type": "display_data",
     "data": {
      "text/plain": [
       "<Figure size 432x288 with 1 Axes>"
      ],
      "image/png": "[encoded data removed]"
     },
     "metadata": {
      "needs_background": "light"
     }
    }
   ],
   "metadata": {}
  },
  {
   "cell_type": "code",
   "execution_count": null,
   "source": [],
   "outputs": [],
   "metadata": {}
  }
 ],
 "metadata": {
  "interpreter": {
   "hash": "550c20a9657717230d10464eebd6552a32b52de9d7f0e76f6f7a9a4c6cbea1e2"
  },
  "kernelspec": {
   "name": "python3",
   "display_name": "Python 3.8.10 64-bit ('base': conda)"
  },
  "language_info": {
   "codemirror_mode": {
    "name": "ipython",
    "version": 3
   },
   "file_extension": ".py",
   "mimetype": "text/x-python",
   "name": "python",
   "nbconvert_exporter": "python",
   "pygments_lexer": "ipython3",
   "version": "3.8.10"
  }
 },
 "nbformat": 4,
 "nbformat_minor": 2
}